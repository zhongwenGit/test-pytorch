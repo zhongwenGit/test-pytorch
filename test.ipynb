{
  "nbformat": 4,
  "nbformat_minor": 0,
  "metadata": {
    "colab": {
      "name": "test.ipynb",
      "provenance": [],
      "authorship_tag": "ABX9TyNJ6aEivxesrEw4e1VqJXsx",
      "include_colab_link": true
    },
    "kernelspec": {
      "name": "python3",
      "display_name": "Python 3"
    },
    "accelerator": "GPU"
  },
  "cells": [
    {
      "cell_type": "markdown",
      "metadata": {
        "id": "view-in-github",
        "colab_type": "text"
      },
      "source": [
        "<a href=\"https://colab.research.google.com/github/zhongwenGit/test-pytorch/blob/main/test.ipynb\" target=\"_parent\"><img src=\"https://colab.research.google.com/assets/colab-badge.svg\" alt=\"Open In Colab\"/></a>"
      ]
    },
    {
      "cell_type": "code",
      "metadata": {
        "id": "gxcSb1McFvSA"
      },
      "source": [
        "import numpy as np"
      ],
      "execution_count": 2,
      "outputs": []
    },
    {
      "cell_type": "code",
      "metadata": {
        "id": "OO9jfumpGfk9"
      },
      "source": [
        "from __future__ import print_function\n",
        "import torch"
      ],
      "execution_count": 3,
      "outputs": []
    },
    {
      "cell_type": "code",
      "metadata": {
        "colab": {
          "base_uri": "https://localhost:8080/"
        },
        "id": "hCDMmythXIKo",
        "outputId": "d9acc40e-db46-4e43-9a99-4aff6a6981cb"
      },
      "source": [
        "x = torch.empty(5, 3)\n",
        "print(x)"
      ],
      "execution_count": 4,
      "outputs": [
        {
          "output_type": "stream",
          "text": [
            "tensor([[1.9333e-35, 0.0000e+00, 3.3631e-44],\n",
            "        [0.0000e+00,        nan, 0.0000e+00],\n",
            "        [1.1578e+27, 1.1362e+30, 7.1547e+22],\n",
            "        [4.5828e+30, 1.2121e+04, 7.1846e+22],\n",
            "        [9.2198e-39, 7.0374e+22, 6.6032e-36]])\n"
          ],
          "name": "stdout"
        }
      ]
    },
    {
      "cell_type": "code",
      "metadata": {
        "colab": {
          "base_uri": "https://localhost:8080/"
        },
        "id": "eY1IV7qKXP6w",
        "outputId": "27985a9d-cc23-412c-f585-1295dca5e3a1"
      },
      "source": [
        "x = torch.ones(5,4,dtype=torch.float)\n",
        "print (x)"
      ],
      "execution_count": 5,
      "outputs": [
        {
          "output_type": "stream",
          "text": [
            "tensor([[1., 1., 1., 1.],\n",
            "        [1., 1., 1., 1.],\n",
            "        [1., 1., 1., 1.],\n",
            "        [1., 1., 1., 1.],\n",
            "        [1., 1., 1., 1.]])\n"
          ],
          "name": "stdout"
        }
      ]
    },
    {
      "cell_type": "code",
      "metadata": {
        "colab": {
          "base_uri": "https://localhost:8080/"
        },
        "id": "lT0ou1IlXajL",
        "outputId": "94350158-e345-4bc2-86ac-becab601e778"
      },
      "source": [
        "x = torch.randn(3,2)\n",
        "print(x)"
      ],
      "execution_count": 6,
      "outputs": [
        {
          "output_type": "stream",
          "text": [
            "tensor([[ 0.2100, -1.1094],\n",
            "        [-0.7546, -0.4093],\n",
            "        [ 1.7720, -0.4239]])\n"
          ],
          "name": "stdout"
        }
      ]
    },
    {
      "cell_type": "code",
      "metadata": {
        "colab": {
          "base_uri": "https://localhost:8080/"
        },
        "id": "ts5gaK2XXoFu",
        "outputId": "7055c962-e4e9-4cdc-f8cf-186197429137"
      },
      "source": [
        "x=torch.tensor([[2,2,1],[1,1,2]])\n",
        "print(x.shape)\n",
        "print(x)"
      ],
      "execution_count": 7,
      "outputs": [
        {
          "output_type": "stream",
          "text": [
            "torch.Size([2, 3])\n",
            "tensor([[2, 2, 1],\n",
            "        [1, 1, 2]])\n"
          ],
          "name": "stdout"
        }
      ]
    },
    {
      "cell_type": "code",
      "metadata": {
        "colab": {
          "base_uri": "https://localhost:8080/"
        },
        "id": "wlGusb9QdG4K",
        "outputId": "23c42913-560b-4bfa-ffb7-b5bde29fde96"
      },
      "source": [
        "x = x.new_ones(5, 3, dtype=torch.double)      # new_* methods take in sizes\n",
        "print(x)\n",
        "print(x.shape)\n",
        "\n",
        "x = torch.randn_like(x, dtype=torch.float)    # override dtype!\n",
        "print(x)                                      # result has the same size"
      ],
      "execution_count": 8,
      "outputs": [
        {
          "output_type": "stream",
          "text": [
            "tensor([[1., 1., 1.],\n",
            "        [1., 1., 1.],\n",
            "        [1., 1., 1.],\n",
            "        [1., 1., 1.],\n",
            "        [1., 1., 1.]], dtype=torch.float64)\n",
            "torch.Size([5, 3])\n",
            "tensor([[-0.2733, -0.2064, -0.1924],\n",
            "        [ 1.9925,  0.3961, -0.8299],\n",
            "        [ 0.4387,  0.3099,  1.5066],\n",
            "        [-0.3429,  0.7181, -1.0234],\n",
            "        [-0.8596, -1.4447,  0.2455]])\n"
          ],
          "name": "stdout"
        }
      ]
    },
    {
      "cell_type": "code",
      "metadata": {
        "colab": {
          "base_uri": "https://localhost:8080/"
        },
        "id": "dPcb4kV1db2X",
        "outputId": "375edcb0-36d5-4a6f-fcd4-21e3e342acde"
      },
      "source": [
        "y = torch.rand_like(x,dtype=torch.float)\n",
        "print(\"y shape\", y.shape)\n",
        "print(y)"
      ],
      "execution_count": 9,
      "outputs": [
        {
          "output_type": "stream",
          "text": [
            "y shape torch.Size([5, 3])\n",
            "tensor([[0.8154, 0.3628, 0.5905],\n",
            "        [0.0720, 0.0219, 0.5049],\n",
            "        [0.1611, 0.4136, 0.5958],\n",
            "        [0.8263, 0.2400, 0.6772],\n",
            "        [0.3152, 0.1271, 0.7856]])\n"
          ],
          "name": "stdout"
        }
      ]
    },
    {
      "cell_type": "code",
      "metadata": {
        "colab": {
          "base_uri": "https://localhost:8080/"
        },
        "id": "kwS1kLRdiXz0",
        "outputId": "6909b156-f21e-401c-97b5-696e76079476"
      },
      "source": [
        "z = x+y\n",
        "print(\"------x-----\",x)\n",
        "print(\"------y-----\",y)\n",
        "print(\"------Z-----\",z)"
      ],
      "execution_count": 10,
      "outputs": [
        {
          "output_type": "stream",
          "text": [
            "------x----- tensor([[-0.2733, -0.2064, -0.1924],\n",
            "        [ 1.9925,  0.3961, -0.8299],\n",
            "        [ 0.4387,  0.3099,  1.5066],\n",
            "        [-0.3429,  0.7181, -1.0234],\n",
            "        [-0.8596, -1.4447,  0.2455]])\n",
            "------y----- tensor([[0.8154, 0.3628, 0.5905],\n",
            "        [0.0720, 0.0219, 0.5049],\n",
            "        [0.1611, 0.4136, 0.5958],\n",
            "        [0.8263, 0.2400, 0.6772],\n",
            "        [0.3152, 0.1271, 0.7856]])\n",
            "------Z----- tensor([[ 0.5421,  0.1564,  0.3981],\n",
            "        [ 2.0645,  0.4180, -0.3250],\n",
            "        [ 0.5998,  0.7234,  2.1024],\n",
            "        [ 0.4833,  0.9580, -0.3462],\n",
            "        [-0.5444, -1.3176,  1.0312]])\n"
          ],
          "name": "stdout"
        }
      ]
    },
    {
      "cell_type": "code",
      "metadata": {
        "colab": {
          "base_uri": "https://localhost:8080/"
        },
        "id": "UnHmUz5sjPT7",
        "outputId": "5374206c-106f-4100-fb0c-3c091ebaf972"
      },
      "source": [
        "x.copy_(y)\n",
        "print(y)\n",
        "print(x.shape)\n",
        "print(x)"
      ],
      "execution_count": 11,
      "outputs": [
        {
          "output_type": "stream",
          "text": [
            "tensor([[0.8154, 0.3628, 0.5905],\n",
            "        [0.0720, 0.0219, 0.5049],\n",
            "        [0.1611, 0.4136, 0.5958],\n",
            "        [0.8263, 0.2400, 0.6772],\n",
            "        [0.3152, 0.1271, 0.7856]])\n",
            "torch.Size([5, 3])\n",
            "tensor([[0.8154, 0.3628, 0.5905],\n",
            "        [0.0720, 0.0219, 0.5049],\n",
            "        [0.1611, 0.4136, 0.5958],\n",
            "        [0.8263, 0.2400, 0.6772],\n",
            "        [0.3152, 0.1271, 0.7856]])\n"
          ],
          "name": "stdout"
        }
      ]
    },
    {
      "cell_type": "code",
      "metadata": {
        "colab": {
          "base_uri": "https://localhost:8080/"
        },
        "id": "jSpmgJJpksln",
        "outputId": "c94c10e0-d14d-4c3f-8211-7aa59f9764c9"
      },
      "source": [
        "x.t_()\n",
        "print(x.shape)\n",
        "print(x)"
      ],
      "execution_count": 12,
      "outputs": [
        {
          "output_type": "stream",
          "text": [
            "torch.Size([3, 5])\n",
            "tensor([[0.8154, 0.0720, 0.1611, 0.8263, 0.3152],\n",
            "        [0.3628, 0.0219, 0.4136, 0.2400, 0.1271],\n",
            "        [0.5905, 0.5049, 0.5958, 0.6772, 0.7856]])\n"
          ],
          "name": "stdout"
        }
      ]
    },
    {
      "cell_type": "code",
      "metadata": {
        "colab": {
          "base_uri": "https://localhost:8080/"
        },
        "id": "ny0Y_jkwlHyJ",
        "outputId": "c1ddc1a3-b7cc-44d1-82b5-640a7f5cca33"
      },
      "source": [
        "print(x[2,:])"
      ],
      "execution_count": 13,
      "outputs": [
        {
          "output_type": "stream",
          "text": [
            "tensor([0.5905, 0.5049, 0.5958, 0.6772, 0.7856])\n"
          ],
          "name": "stdout"
        }
      ]
    },
    {
      "cell_type": "code",
      "metadata": {
        "colab": {
          "base_uri": "https://localhost:8080/"
        },
        "id": "3zvEUK5hl7bN",
        "outputId": "d7d27667-9499-496a-8017-006b8ba90e74"
      },
      "source": [
        "x = torch.randn(4, 4)\n",
        "y = x.view(16)\n",
        "z = x.view(-1, 4)  # the size -1 is inferred from other dimensions\n",
        "print(x.size(), y.size(), z.size())\n",
        "print(x)"
      ],
      "execution_count": 17,
      "outputs": [
        {
          "output_type": "stream",
          "text": [
            "torch.Size([4, 4]) torch.Size([16]) torch.Size([4, 4])\n",
            "tensor([[-0.2598,  1.8672, -1.4153,  1.7927],\n",
            "        [-0.4008, -1.8718,  0.5752,  1.1997],\n",
            "        [ 0.2193,  0.8235, -0.2668, -0.5868],\n",
            "        [ 1.8673,  1.8867,  1.1624,  0.1876]])\n"
          ],
          "name": "stdout"
        }
      ]
    },
    {
      "cell_type": "code",
      "metadata": {
        "colab": {
          "base_uri": "https://localhost:8080/"
        },
        "id": "uSe1Iachpky_",
        "outputId": "55270e77-fe62-4536-d802-8d6a7d75fc99"
      },
      "source": [
        "# let us run this cell only if CUDA is available\n",
        "# We will use ``torch.device`` objects to move tensors in and out of GPU\n",
        "if torch.cuda.is_available():\n",
        "    device = torch.device(\"cuda\")          # a CUDA device object\n",
        "    y = torch.ones_like(x, device=device)  # directly create a tensor on GPU\n",
        "    x = x.to(device)                       # or just use strings ``.to(\"cuda\")``\n",
        "    z = x + y\n",
        "    print(x)\n",
        "    print(z)\n",
        "    print(z.to(\"cpu\", torch.double))       # ``.to`` can also change dtype together!"
      ],
      "execution_count": 18,
      "outputs": [
        {
          "output_type": "stream",
          "text": [
            "tensor([[-0.2598,  1.8672, -1.4153,  1.7927],\n",
            "        [-0.4008, -1.8718,  0.5752,  1.1997],\n",
            "        [ 0.2193,  0.8235, -0.2668, -0.5868],\n",
            "        [ 1.8673,  1.8867,  1.1624,  0.1876]], device='cuda:0')\n",
            "tensor([[ 0.7402,  2.8672, -0.4153,  2.7927],\n",
            "        [ 0.5992, -0.8718,  1.5752,  2.1997],\n",
            "        [ 1.2193,  1.8235,  0.7332,  0.4132],\n",
            "        [ 2.8673,  2.8867,  2.1624,  1.1876]], device='cuda:0')\n",
            "tensor([[ 0.7402,  2.8672, -0.4153,  2.7927],\n",
            "        [ 0.5992, -0.8718,  1.5752,  2.1997],\n",
            "        [ 1.2193,  1.8235,  0.7332,  0.4132],\n",
            "        [ 2.8673,  2.8867,  2.1624,  1.1876]], dtype=torch.float64)\n"
          ],
          "name": "stdout"
        }
      ]
    },
    {
      "cell_type": "code",
      "metadata": {
        "id": "f8dtsbGHqa9y"
      },
      "source": [
        ""
      ],
      "execution_count": null,
      "outputs": []
    }
  ]
}